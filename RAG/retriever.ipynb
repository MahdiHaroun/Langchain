{
 "cells": [
  {
   "cell_type": "code",
   "execution_count": 16,
   "id": "a76b1f60",
   "metadata": {},
   "outputs": [
    {
     "data": {
      "text/plain": [
       "[Document(metadata={'producer': 'Foxit PDF Creator Version 7.3.0.1225', 'creator': 'Foxit Software Inc.', 'creationdate': '2016-05-06T20:31:42+05:30', 'moddate': '2017-10-25T10:28:18-04:00', 'spdf': '1132', 'subject': '', 'title': '', 'author': 'Dell', 'keywords': '', 'enhanced': 'By PDF Enhancer 3.8.10571/Unix', 'source': 'ss.pdf', 'total_pages': 7, 'page': 0, 'page_label': '1'}, page_content='Solar System – GK Notes in PDF \\nOur little corner of the Universe is called the solar system. Questions on the Solar System funnily turn up \\nin both Geography and Science. You can find a fe w questions on the Solar System in many competitive \\nrecruitment exams like Railways RRB, SSC CGL, SBI PO, SBI Clerk, IBPS Clerk, and IBPS PO. So understand \\nthe basics of the Solar System in these GK Notes. You can download this Solar System article for revision \\nlater.  \\nThe Solar System \\nThe solar system consists of the Sun and its eight main planets, their satellites, asteroids, comets, \\nmeteors and other dwarf planets. The Sun is at the one of the two “centers” of the Solar system and the \\nplanets revolving around it in elliptical orbits. Let us take a look at some quick facts about the Solar \\nSystem: \\n\\uf0b7 The closest planet to Sun is Mercury and the farthest is Neptune. \\n\\uf0b7 Pluto is a dwarf planet – relegated from its status as the ninth planet.  \\n\\uf0b7 The eight planets of the solar system are Mercury, Venus, Earth, Mars, Jupiter, Saturn, Uranus, \\nNeptune.  \\n\\uf0b7 You can remember the order using the mnemonic: My Very Energetic Mother Just Showed Us \\nNight-sky.'),\n",
       " Document(metadata={'producer': 'Foxit PDF Creator Version 7.3.0.1225', 'creator': 'Foxit Software Inc.', 'creationdate': '2016-05-06T20:31:42+05:30', 'moddate': '2017-10-25T10:28:18-04:00', 'spdf': '1132', 'subject': '', 'title': '', 'author': 'Dell', 'keywords': '', 'enhanced': 'By PDF Enhancer 3.8.10571/Unix', 'source': 'ss.pdf', 'total_pages': 7, 'page': 1, 'page_label': '2'}, page_content='Image source: NASA \\n \\nThe Sun \\nThe Sun is the primary source of energy for life on Earth. It is the closest star to the Earth, about 150 \\nmillion kilometers from earth. The temperature of the Sun’s visible surface (photosphere) is about 6000 \\ndegree Celsius. However, the outer layer of Sun’s atmosphere, known as the Corona, is, on an average, \\nabout 2 million degree Celsius. The core of the sun is the center, and is about 15 million degree Celsius. \\nThe Sun is made up of 73% hydrogen and 25% helium. It also has trace amounts of oxygen, carbon, iron \\nand other elements. It is classified as a G-Type Main Sequence Star. It is about 4.6 billion years old and \\nwill continue to shine for another 5 billion years. After that it will grow into a Red Giant and then finally \\nend its life as a white dwarf.'),\n",
       " Document(metadata={'producer': 'Foxit PDF Creator Version 7.3.0.1225', 'creator': 'Foxit Software Inc.', 'creationdate': '2016-05-06T20:31:42+05:30', 'moddate': '2017-10-25T10:28:18-04:00', 'spdf': '1132', 'subject': '', 'title': '', 'author': 'Dell', 'keywords': '', 'enhanced': 'By PDF Enhancer 3.8.10571/Unix', 'source': 'ss.pdf', 'total_pages': 7, 'page': 2, 'page_label': '3'}, page_content='Image source: http://www.wikipedia.com \\n \\nThe Planets \\nThere are a total eight planets in the solar system -  \\n\\uf0b7 The planets are divided in the two groups - Inner planets and Outer planets. \\n\\uf0b7 Inner planets - Mercury, Venus, Earth, Mars. These are also known as terrestrial planets or rocky \\nplanets. These are denser and have a shorter periods of revolution. \\n\\uf0b7 Outer planets - Jupiter, Saturn, Uranus, Neptune. These are also known as Gas Giants or Gaseous \\nplanets. They are big in size and have a longer periods of revolution.  \\n\\uf0b7 Jupiter is the biggest planet in the Solar System and Mercury is the smallest.'),\n",
       " Document(metadata={'producer': 'Foxit PDF Creator Version 7.3.0.1225', 'creator': 'Foxit Software Inc.', 'creationdate': '2016-05-06T20:31:42+05:30', 'moddate': '2017-10-25T10:28:18-04:00', 'spdf': '1132', 'subject': '', 'title': '', 'author': 'Dell', 'keywords': '', 'enhanced': 'By PDF Enhancer 3.8.10571/Unix', 'source': 'ss.pdf', 'total_pages': 7, 'page': 3, 'page_label': '4'}, page_content='Mercury \\n\\uf0b7 Closest planet to the Sun.  \\n\\uf0b7 Orbits the Sun the quickest. \\n\\uf0b7 No significant atmosphere. \\n\\uf0b7 Rotation period is longer than its orbital (revolution) period.  \\n\\uf0b7 No natural satellites (moons). \\n\\uf0b7 Spacecrafts to Mercury: Mariner 10, MESSENGER, BepiColombo (upcoming). \\n\\uf0b7 Can be seen from the earth only before sunrise and after sunset.  \\nVenus \\n\\uf0b7 Known as Earth’s twin. \\n\\uf0b7 Longest rotation period of any planet. \\n\\uf0b7 Rotation period is longer than its orbital (revolution) period. \\n\\uf0b7 Hottest planet in the solar system. \\n\\uf0b7 Dense atmosphere of gases and chemicals including sulphuric acid clouds. \\n\\uf0b7 Revolves around the sun in clockwise manner while most others are revolving in anti-clockwise. \\n\\uf0b7 Second brightest natural object in the night sky (after Moon).  \\n\\uf0b7 Can be seen from the earth only before sunrise (Morning Star) and after sunset (Evening Star).  \\n\\uf0b7 No natural satellites (moons). \\n\\uf0b7 First planet visited by a spacecraft. \\n\\uf0b7 Spacecrafts to Venus: Mariner 2, Venera 7, Magellan etc. \\nEarth \\n\\uf0b7 Only planet in the solar system to be known to support life. \\n\\uf0b7 Has water in all three states – liquid, solid and gas. \\n\\uf0b7 Gasses present in the earth’s atmosphere are Nitrogen, Hydrogen, Oxygen, Carbon Dioxide etc \\n\\uf0b7 It takes 23 hour 56 minutes 46 seconds to rotate around its axis.  \\n\\uf0b7 It takes 365.26 days to revolve around the Sun.  \\n\\uf0b7 The Ozone layer present in the Earth’s atmosphere protects it from the ultra violet rays.  \\n\\uf0b7 Moon is the only natural satellite of the Earth.'),\n",
       " Document(metadata={'producer': 'Foxit PDF Creator Version 7.3.0.1225', 'creator': 'Foxit Software Inc.', 'creationdate': '2016-05-06T20:31:42+05:30', 'moddate': '2017-10-25T10:28:18-04:00', 'spdf': '1132', 'subject': '', 'title': '', 'author': 'Dell', 'keywords': '', 'enhanced': 'By PDF Enhancer 3.8.10571/Unix', 'source': 'ss.pdf', 'total_pages': 7, 'page': 4, 'page_label': '5'}, page_content='Mars \\n\\uf0b7 Known as the ‘Red Planet’ due to presence of iron-rich red soil. \\n\\uf0b7 Despite its red colour, it is cold because it has lost most of its atmosphere. \\n\\uf0b7 Phobos and Deimos are the two moons of Mars. \\n\\uf0b7 Has polar ice caps and traces of sub-terrestrial liquid water has been found. \\n\\uf0b7 Has the largest known volcano (and second tallest mountain) in the solar system – Mons Olympus. \\n\\uf0b7 Spacecrafts to Mars: Mariner 4, 2001 Mars Odyssey, Mars Orbiter Mission (India), MAVEN etc. \\n\\uf0b7 Rovers on Mars: Opportunity, Curiosity, Spirit (decommissioned). \\nJupiter \\n\\uf0b7 Largest planet of the solar system. \\n\\uf0b7 Has two and a half times the mass of all other planets put together. \\n\\uf0b7 Has the shortest rotation period. \\n\\uf0b7 A gas giant, primarily composed of hydrogen and helium with no discernible solid surface. \\n\\uf0b7 Has a giant storm (three times the diameter of earth) since 1831 called the ‘Great Red Spot’. \\n\\uf0b7 Has a faint ring around it. \\n\\uf0b7 Has 67 moons. \\n\\uf0b7 4 largest moons discovered by Galileo – Ganymede (largest moon in the solar system – bigger than \\nMercury), Callisto, Io (volcanic), Europa (has water-ice). \\n\\uf0b7 Missions to Jupiter: Galileo, Juno (upcoming). \\nSaturn \\n\\uf0b7 Second largest planet in the Solar system. \\n\\uf0b7 Its density is less than the water. \\n\\uf0b7 Has a band of concentric rings revolving around it made up of tiny rocks and pieces of ice. \\n\\uf0b7 Has 62 moons. \\n\\uf0b7 Moons of Saturn: Titan is the largest (has a major atmosphere, complex organic chemistry and ICE \\nVOLCANOES‼), Rhea (may have its own ring system), Enceladus. \\n\\uf0b7 Missions to Saturn: Cassini-Huygens.'),\n",
       " Document(metadata={'producer': 'Foxit PDF Creator Version 7.3.0.1225', 'creator': 'Foxit Software Inc.', 'creationdate': '2016-05-06T20:31:42+05:30', 'moddate': '2017-10-25T10:28:18-04:00', 'spdf': '1132', 'subject': '', 'title': '', 'author': 'Dell', 'keywords': '', 'enhanced': 'By PDF Enhancer 3.8.10571/Unix', 'source': 'ss.pdf', 'total_pages': 7, 'page': 5, 'page_label': '6'}, page_content='Uranus \\n\\uf0b7 Discovered by Sir William Herschel. \\n\\uf0b7 Blue-green (cyan) in colour. \\n\\uf0b7 Third biggest planet of the solar system. \\n\\uf0b7 Composed of Hydrogen, Helium, Water, Ammonia, Methane. \\n\\uf0b7 It is tilted sideways so that its poles lie where most other planets have their equators.  \\n\\uf0b7 Has faint rings. \\n\\uf0b7 Has 27 known moons (5 main – Miranda, Ariel, Umbriel, Titania, Oberon). \\n\\uf0b7 Spacecraft Flyby: Voyager 2. \\nNeptune \\n\\uf0b7 Discovered by mathematical predictions and disturbances in Uranus’ orbit. \\n\\uf0b7 First proposed by Alexis Bouvard, and first observed by Johann Galle. \\n\\uf0b7 Farthest planet from the Sun. \\n\\uf0b7 Primarily composed of hydrogen, helium, nitrogen, water, ammonia, methane.  \\n\\uf0b7 Is blue in colour because of methane. \\n\\uf0b7 Has a storm called ‘Great Dark Spot’. \\n\\uf0b7 Has 14 known moons (Triton – largest)   \\n\\uf0b7 Spacecraft Flyby: Voyager 2. \\nPluto \\n\\uf0b7 Used to be the ninth planet. \\n\\uf0b7 Demoted to status of “Dwarf Planet”. \\n\\uf0b7 Icy and cold. \\n\\uf0b7 Has five moons – Charon, Styx, Nix, Kerberos, Hydra. \\nAsteroids   \\n\\uf0b7 Almost like planets but smaller in size. \\n\\uf0b7 Not spherical in appearance. \\n\\uf0b7 Revolve around the Sun.  \\n\\uf0b7 Most of them are found in a belt between Mars and Jupiter.  \\n\\uf0b7 The largest asteroid in the Asteroid Belt is Ceres.'),\n",
       " Document(metadata={'producer': 'Foxit PDF Creator Version 7.3.0.1225', 'creator': 'Foxit Software Inc.', 'creationdate': '2016-05-06T20:31:42+05:30', 'moddate': '2017-10-25T10:28:18-04:00', 'spdf': '1132', 'subject': '', 'title': '', 'author': 'Dell', 'keywords': '', 'enhanced': 'By PDF Enhancer 3.8.10571/Unix', 'source': 'ss.pdf', 'total_pages': 7, 'page': 6, 'page_label': '7'}, page_content='Meteorites \\n\\uf0b7 Meteoroids are formed due to the collisions between asteroids.  \\n\\uf0b7 They are fragments of rocks floating about in space.  \\n\\uf0b7 Sometimes they come across earth and fall into the earth’s atmosphere. That’s when they become \\nmeteors or “shooting stars”.  \\n\\uf0b7 Most of these meteors can’t reach earth’s surface and burn up in the atmosphere due to the friction \\nwith air.  \\n\\uf0b7 The meteors that do reach the earth’s surface are known as meteorites.  \\nComets \\n\\uf0b7 Tiny icy and rocky bodies that travel in highly elliptical orbits around the sun. \\n\\uf0b7 When they pass close to the sun, they water and gases heat up. \\n\\uf0b7 This leads to the formation of a tail behind the rocky core in the direction opposite to the sun. \\n\\uf0b7 Most famous comet is Halley’s Comet which reappears every 75-76 years. \\n\\uf0b7 Last appeared: 1986. Next appearance: 2061. \\n \\nDownload More PDFs \\n \\nNutrition and Deficiency \\nAadhaar Bill Explained \\nList of Important Regulatory Bodies in India')]"
      ]
     },
     "execution_count": 16,
     "metadata": {},
     "output_type": "execute_result"
    }
   ],
   "source": [
    "from langchain_community.document_loaders import PyPDFLoader\n",
    "loader = PyPDFLoader(\"ss.pdf\")\n",
    "docs = loader.load()\n",
    "docs"
   ]
  },
  {
   "cell_type": "code",
   "execution_count": 17,
   "id": "2ebd5b4d",
   "metadata": {},
   "outputs": [
    {
     "data": {
      "text/plain": [
       "[Document(metadata={'producer': 'Foxit PDF Creator Version 7.3.0.1225', 'creator': 'Foxit Software Inc.', 'creationdate': '2016-05-06T20:31:42+05:30', 'moddate': '2017-10-25T10:28:18-04:00', 'spdf': '1132', 'subject': '', 'title': '', 'author': 'Dell', 'keywords': '', 'enhanced': 'By PDF Enhancer 3.8.10571/Unix', 'source': 'ss.pdf', 'total_pages': 7, 'page': 0, 'page_label': '1'}, page_content='Solar System – GK Notes in PDF \\nOur little corner of the Universe is called the solar system. Questions on the Solar System funnily turn up \\nin both Geography and Science. You can find a fe w questions on the Solar System in many competitive \\nrecruitment exams like Railways RRB, SSC CGL, SBI PO, SBI Clerk, IBPS Clerk, and IBPS PO. So understand \\nthe basics of the Solar System in these GK Notes. You can download this Solar System article for revision \\nlater.  \\nThe Solar System \\nThe solar system consists of the Sun and its eight main planets, their satellites, asteroids, comets, \\nmeteors and other dwarf planets. The Sun is at the one of the two “centers” of the Solar system and the \\nplanets revolving around it in elliptical orbits. Let us take a look at some quick facts about the Solar \\nSystem: \\n\\uf0b7 The closest planet to Sun is Mercury and the farthest is Neptune. \\n\\uf0b7 Pluto is a dwarf planet – relegated from its status as the ninth planet.'),\n",
       " Document(metadata={'producer': 'Foxit PDF Creator Version 7.3.0.1225', 'creator': 'Foxit Software Inc.', 'creationdate': '2016-05-06T20:31:42+05:30', 'moddate': '2017-10-25T10:28:18-04:00', 'spdf': '1132', 'subject': '', 'title': '', 'author': 'Dell', 'keywords': '', 'enhanced': 'By PDF Enhancer 3.8.10571/Unix', 'source': 'ss.pdf', 'total_pages': 7, 'page': 0, 'page_label': '1'}, page_content='System: \\n\\uf0b7 The closest planet to Sun is Mercury and the farthest is Neptune. \\n\\uf0b7 Pluto is a dwarf planet – relegated from its status as the ninth planet.  \\n\\uf0b7 The eight planets of the solar system are Mercury, Venus, Earth, Mars, Jupiter, Saturn, Uranus, \\nNeptune.  \\n\\uf0b7 You can remember the order using the mnemonic: My Very Energetic Mother Just Showed Us \\nNight-sky.'),\n",
       " Document(metadata={'producer': 'Foxit PDF Creator Version 7.3.0.1225', 'creator': 'Foxit Software Inc.', 'creationdate': '2016-05-06T20:31:42+05:30', 'moddate': '2017-10-25T10:28:18-04:00', 'spdf': '1132', 'subject': '', 'title': '', 'author': 'Dell', 'keywords': '', 'enhanced': 'By PDF Enhancer 3.8.10571/Unix', 'source': 'ss.pdf', 'total_pages': 7, 'page': 1, 'page_label': '2'}, page_content='Image source: NASA \\n \\nThe Sun \\nThe Sun is the primary source of energy for life on Earth. It is the closest star to the Earth, about 150 \\nmillion kilometers from earth. The temperature of the Sun’s visible surface (photosphere) is about 6000 \\ndegree Celsius. However, the outer layer of Sun’s atmosphere, known as the Corona, is, on an average, \\nabout 2 million degree Celsius. The core of the sun is the center, and is about 15 million degree Celsius. \\nThe Sun is made up of 73% hydrogen and 25% helium. It also has trace amounts of oxygen, carbon, iron \\nand other elements. It is classified as a G-Type Main Sequence Star. It is about 4.6 billion years old and \\nwill continue to shine for another 5 billion years. After that it will grow into a Red Giant and then finally \\nend its life as a white dwarf.'),\n",
       " Document(metadata={'producer': 'Foxit PDF Creator Version 7.3.0.1225', 'creator': 'Foxit Software Inc.', 'creationdate': '2016-05-06T20:31:42+05:30', 'moddate': '2017-10-25T10:28:18-04:00', 'spdf': '1132', 'subject': '', 'title': '', 'author': 'Dell', 'keywords': '', 'enhanced': 'By PDF Enhancer 3.8.10571/Unix', 'source': 'ss.pdf', 'total_pages': 7, 'page': 2, 'page_label': '3'}, page_content='Image source: http://www.wikipedia.com \\n \\nThe Planets \\nThere are a total eight planets in the solar system -  \\n\\uf0b7 The planets are divided in the two groups - Inner planets and Outer planets. \\n\\uf0b7 Inner planets - Mercury, Venus, Earth, Mars. These are also known as terrestrial planets or rocky \\nplanets. These are denser and have a shorter periods of revolution. \\n\\uf0b7 Outer planets - Jupiter, Saturn, Uranus, Neptune. These are also known as Gas Giants or Gaseous \\nplanets. They are big in size and have a longer periods of revolution.  \\n\\uf0b7 Jupiter is the biggest planet in the Solar System and Mercury is the smallest.'),\n",
       " Document(metadata={'producer': 'Foxit PDF Creator Version 7.3.0.1225', 'creator': 'Foxit Software Inc.', 'creationdate': '2016-05-06T20:31:42+05:30', 'moddate': '2017-10-25T10:28:18-04:00', 'spdf': '1132', 'subject': '', 'title': '', 'author': 'Dell', 'keywords': '', 'enhanced': 'By PDF Enhancer 3.8.10571/Unix', 'source': 'ss.pdf', 'total_pages': 7, 'page': 3, 'page_label': '4'}, page_content='Mercury \\n\\uf0b7 Closest planet to the Sun.  \\n\\uf0b7 Orbits the Sun the quickest. \\n\\uf0b7 No significant atmosphere. \\n\\uf0b7 Rotation period is longer than its orbital (revolution) period.  \\n\\uf0b7 No natural satellites (moons). \\n\\uf0b7 Spacecrafts to Mercury: Mariner 10, MESSENGER, BepiColombo (upcoming). \\n\\uf0b7 Can be seen from the earth only before sunrise and after sunset.  \\nVenus \\n\\uf0b7 Known as Earth’s twin. \\n\\uf0b7 Longest rotation period of any planet. \\n\\uf0b7 Rotation period is longer than its orbital (revolution) period. \\n\\uf0b7 Hottest planet in the solar system. \\n\\uf0b7 Dense atmosphere of gases and chemicals including sulphuric acid clouds. \\n\\uf0b7 Revolves around the sun in clockwise manner while most others are revolving in anti-clockwise. \\n\\uf0b7 Second brightest natural object in the night sky (after Moon).  \\n\\uf0b7 Can be seen from the earth only before sunrise (Morning Star) and after sunset (Evening Star).  \\n\\uf0b7 No natural satellites (moons). \\n\\uf0b7 First planet visited by a spacecraft.')]"
      ]
     },
     "execution_count": 17,
     "metadata": {},
     "output_type": "execute_result"
    }
   ],
   "source": [
    "from langchain.text_splitter import RecursiveCharacterTextSplitter\n",
    "text_splitter = RecursiveCharacterTextSplitter(\n",
    "    chunk_size=1000,\n",
    "    chunk_overlap=200,\n",
    "    \n",
    ")\n",
    "document = text_splitter.split_documents(docs)\n",
    "document[:5]\n"
   ]
  },
  {
   "cell_type": "code",
   "execution_count": 18,
   "id": "04f7d390",
   "metadata": {},
   "outputs": [],
   "source": [
    "##fiass vector db\n",
    "from langchain_community.vectorstores import FAISS\n",
    "from langchain_community.embeddings import OllamaEmbeddings \n",
    "db = FAISS.from_documents(\n",
    "    document,\n",
    "    embedding=OllamaEmbeddings()\n",
    ")"
   ]
  },
  {
   "cell_type": "code",
   "execution_count": 19,
   "id": "72dffcb1",
   "metadata": {},
   "outputs": [
    {
     "data": {
      "text/plain": [
       "<langchain_community.vectorstores.faiss.FAISS at 0x7f397a2bbac0>"
      ]
     },
     "execution_count": 19,
     "metadata": {},
     "output_type": "execute_result"
    }
   ],
   "source": [
    "db"
   ]
  },
  {
   "cell_type": "code",
   "execution_count": 20,
   "id": "240e104e",
   "metadata": {},
   "outputs": [
    {
     "data": {
      "text/plain": [
       "[Document(id='20ed6c4b-0b85-4b24-bd46-1e1c8b012509', metadata={'producer': 'Foxit PDF Creator Version 7.3.0.1225', 'creator': 'Foxit Software Inc.', 'creationdate': '2016-05-06T20:31:42+05:30', 'moddate': '2017-10-25T10:28:18-04:00', 'spdf': '1132', 'subject': '', 'title': '', 'author': 'Dell', 'keywords': '', 'enhanced': 'By PDF Enhancer 3.8.10571/Unix', 'source': 'ss.pdf', 'total_pages': 7, 'page': 3, 'page_label': '4'}, page_content='Mercury \\n\\uf0b7 Closest planet to the Sun.  \\n\\uf0b7 Orbits the Sun the quickest. \\n\\uf0b7 No significant atmosphere. \\n\\uf0b7 Rotation period is longer than its orbital (revolution) period.  \\n\\uf0b7 No natural satellites (moons). \\n\\uf0b7 Spacecrafts to Mercury: Mariner 10, MESSENGER, BepiColombo (upcoming). \\n\\uf0b7 Can be seen from the earth only before sunrise and after sunset.  \\nVenus \\n\\uf0b7 Known as Earth’s twin. \\n\\uf0b7 Longest rotation period of any planet. \\n\\uf0b7 Rotation period is longer than its orbital (revolution) period. \\n\\uf0b7 Hottest planet in the solar system. \\n\\uf0b7 Dense atmosphere of gases and chemicals including sulphuric acid clouds. \\n\\uf0b7 Revolves around the sun in clockwise manner while most others are revolving in anti-clockwise. \\n\\uf0b7 Second brightest natural object in the night sky (after Moon).  \\n\\uf0b7 Can be seen from the earth only before sunrise (Morning Star) and after sunset (Evening Star).  \\n\\uf0b7 No natural satellites (moons). \\n\\uf0b7 First planet visited by a spacecraft.'),\n",
       " Document(id='3c4988ce-3d56-4036-bd15-385b896b025e', metadata={'producer': 'Foxit PDF Creator Version 7.3.0.1225', 'creator': 'Foxit Software Inc.', 'creationdate': '2016-05-06T20:31:42+05:30', 'moddate': '2017-10-25T10:28:18-04:00', 'spdf': '1132', 'subject': '', 'title': '', 'author': 'Dell', 'keywords': '', 'enhanced': 'By PDF Enhancer 3.8.10571/Unix', 'source': 'ss.pdf', 'total_pages': 7, 'page': 1, 'page_label': '2'}, page_content='Image source: NASA \\n \\nThe Sun \\nThe Sun is the primary source of energy for life on Earth. It is the closest star to the Earth, about 150 \\nmillion kilometers from earth. The temperature of the Sun’s visible surface (photosphere) is about 6000 \\ndegree Celsius. However, the outer layer of Sun’s atmosphere, known as the Corona, is, on an average, \\nabout 2 million degree Celsius. The core of the sun is the center, and is about 15 million degree Celsius. \\nThe Sun is made up of 73% hydrogen and 25% helium. It also has trace amounts of oxygen, carbon, iron \\nand other elements. It is classified as a G-Type Main Sequence Star. It is about 4.6 billion years old and \\nwill continue to shine for another 5 billion years. After that it will grow into a Red Giant and then finally \\nend its life as a white dwarf.'),\n",
       " Document(id='eeda5584-75ef-4171-acb1-22c12e6bd714', metadata={'producer': 'Foxit PDF Creator Version 7.3.0.1225', 'creator': 'Foxit Software Inc.', 'creationdate': '2016-05-06T20:31:42+05:30', 'moddate': '2017-10-25T10:28:18-04:00', 'spdf': '1132', 'subject': '', 'title': '', 'author': 'Dell', 'keywords': '', 'enhanced': 'By PDF Enhancer 3.8.10571/Unix', 'source': 'ss.pdf', 'total_pages': 7, 'page': 4, 'page_label': '5'}, page_content='Mars \\n\\uf0b7 Known as the ‘Red Planet’ due to presence of iron-rich red soil. \\n\\uf0b7 Despite its red colour, it is cold because it has lost most of its atmosphere. \\n\\uf0b7 Phobos and Deimos are the two moons of Mars. \\n\\uf0b7 Has polar ice caps and traces of sub-terrestrial liquid water has been found. \\n\\uf0b7 Has the largest known volcano (and second tallest mountain) in the solar system – Mons Olympus. \\n\\uf0b7 Spacecrafts to Mars: Mariner 4, 2001 Mars Odyssey, Mars Orbiter Mission (India), MAVEN etc. \\n\\uf0b7 Rovers on Mars: Opportunity, Curiosity, Spirit (decommissioned). \\nJupiter \\n\\uf0b7 Largest planet of the solar system. \\n\\uf0b7 Has two and a half times the mass of all other planets put together. \\n\\uf0b7 Has the shortest rotation period. \\n\\uf0b7 A gas giant, primarily composed of hydrogen and helium with no discernible solid surface. \\n\\uf0b7 Has a giant storm (three times the diameter of earth) since 1831 called the ‘Great Red Spot’. \\n\\uf0b7 Has a faint ring around it. \\n\\uf0b7 Has 67 moons.'),\n",
       " Document(id='356b05eb-b89d-4734-9bc1-2f76237c2a40', metadata={'producer': 'Foxit PDF Creator Version 7.3.0.1225', 'creator': 'Foxit Software Inc.', 'creationdate': '2016-05-06T20:31:42+05:30', 'moddate': '2017-10-25T10:28:18-04:00', 'spdf': '1132', 'subject': '', 'title': '', 'author': 'Dell', 'keywords': '', 'enhanced': 'By PDF Enhancer 3.8.10571/Unix', 'source': 'ss.pdf', 'total_pages': 7, 'page': 6, 'page_label': '7'}, page_content='Meteorites \\n\\uf0b7 Meteoroids are formed due to the collisions between asteroids.  \\n\\uf0b7 They are fragments of rocks floating about in space.  \\n\\uf0b7 Sometimes they come across earth and fall into the earth’s atmosphere. That’s when they become \\nmeteors or “shooting stars”.  \\n\\uf0b7 Most of these meteors can’t reach earth’s surface and burn up in the atmosphere due to the friction \\nwith air.  \\n\\uf0b7 The meteors that do reach the earth’s surface are known as meteorites.  \\nComets \\n\\uf0b7 Tiny icy and rocky bodies that travel in highly elliptical orbits around the sun. \\n\\uf0b7 When they pass close to the sun, they water and gases heat up. \\n\\uf0b7 This leads to the formation of a tail behind the rocky core in the direction opposite to the sun. \\n\\uf0b7 Most famous comet is Halley’s Comet which reappears every 75-76 years. \\n\\uf0b7 Last appeared: 1986. Next appearance: 2061. \\n \\nDownload More PDFs \\n \\nNutrition and Deficiency \\nAadhaar Bill Explained \\nList of Important Regulatory Bodies in India')]"
      ]
     },
     "execution_count": 20,
     "metadata": {},
     "output_type": "execute_result"
    }
   ],
   "source": [
    "query =\"what is mars\"\n",
    "result = db.similarity_search(query)\n",
    "result"
   ]
  },
  {
   "cell_type": "code",
   "execution_count": 21,
   "id": "13e7db50",
   "metadata": {},
   "outputs": [
    {
     "data": {
      "text/plain": [
       "Ollama()"
      ]
     },
     "execution_count": 21,
     "metadata": {},
     "output_type": "execute_result"
    }
   ],
   "source": [
    "from langchain_community.llms import Ollama\n",
    "\n",
    "llm = Ollama (\n",
    "    model = \"llama2\"\n",
    ")\n",
    "llm\n"
   ]
  },
  {
   "cell_type": "code",
   "execution_count": 22,
   "id": "0fd8ee56",
   "metadata": {},
   "outputs": [],
   "source": [
    "from langchain_core.prompts import ChatPromptTemplate\n",
    "prompt = ChatPromptTemplate.from_template(\n",
    "    \"\"\"Answer the following question based on the context below. Think step by step before providing a detailed answer.\n",
    "    I will tip you if you answer correctly.\n",
    "    Context: {context}\n",
    "    Question: {input}\"\"\"\n",
    ")"
   ]
  },
  {
   "cell_type": "code",
   "execution_count": 23,
   "id": "fa5c9fb3",
   "metadata": {},
   "outputs": [],
   "source": [
    "from langchain.chains.combine_documents import create_stuff_documents_chain\n",
    "\n",
    "documents_chain = create_stuff_documents_chain(\n",
    "    llm=llm,\n",
    "    prompt=prompt\n",
    ")"
   ]
  },
  {
   "cell_type": "code",
   "execution_count": 24,
   "id": "01f84943",
   "metadata": {},
   "outputs": [],
   "source": [
    "'''A retriever is an interface that returns documents given an unstructured query. It is more general than a vector store. A retriever does not need to be able to store documents, only to return (or retrieve) them. Vector stores can be used as the backbone of a retriever, but there are other types of retrievers as well.'''\n",
    "\n",
    "retriever = db.as_retriever()\n",
    "\n"
   ]
  },
  {
   "cell_type": "code",
   "execution_count": 25,
   "id": "daf0a527",
   "metadata": {},
   "outputs": [],
   "source": [
    "'''retriver chain is a chain that takes a query and returns a response based on the retrieved documents. It is a higher-level abstraction that combines the retriever and the document chain. The retriever chain can be used to answer questions based on the retrieved documents.'''\n",
    "\n",
    "from langchain.chains import create_retrieval_chain\n",
    "retriever_chain = create_retrieval_chain(\n",
    "    retriever,\n",
    "    documents_chain\n",
    ")\n"
   ]
  },
  {
   "cell_type": "code",
   "execution_count": 30,
   "id": "1af00c88",
   "metadata": {},
   "outputs": [],
   "source": [
    "response = retriever_chain.invoke({\"input\": \"which planet Has the largest known volcano\"})"
   ]
  },
  {
   "cell_type": "code",
   "execution_count": 31,
   "id": "25affbed",
   "metadata": {},
   "outputs": [
    {
     "data": {
      "text/plain": [
       "'Based on the information provided in the context, the planet with the largest known volcano is Jupiter.'"
      ]
     },
     "execution_count": 31,
     "metadata": {},
     "output_type": "execute_result"
    }
   ],
   "source": [
    "response['answer']"
   ]
  }
 ],
 "metadata": {
  "kernelspec": {
   "display_name": "venv",
   "language": "python",
   "name": "python3"
  },
  "language_info": {
   "codemirror_mode": {
    "name": "ipython",
    "version": 3
   },
   "file_extension": ".py",
   "mimetype": "text/x-python",
   "name": "python",
   "nbconvert_exporter": "python",
   "pygments_lexer": "ipython3",
   "version": "3.10.14"
  }
 },
 "nbformat": 4,
 "nbformat_minor": 5
}
