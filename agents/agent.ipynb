{
 "cells": [
  {
   "cell_type": "code",
   "execution_count": null,
   "id": "abf1a3cd",
   "metadata": {},
   "outputs": [],
   "source": [
    "from dotenv import load_dotenv\n",
    "import os\n",
    "from langchain_openai import ChatOpenAI\n",
    "\n",
    "# Load environment variables from .env file\n",
    "load_dotenv(dotenv_path=\"/home/mahdi/Desktop/Langchain/.env\")\n",
    "\n",
    "# Set up OpenAI API key\n",
    "openai_api_key = os.getenv(\"OPENAI_API_KEY\")\n",
    "if openai_api_key:\n",
    "    os.environ[\"OPENAI_API_KEY\"] = openai_api_key\n",
    "\n",
    "# Set up LangSmith (optional)\n",
    "langsmith_api_key = os.getenv(\"LANGSMITH_API_KEY\")\n",
    "if langsmith_api_key:\n",
    "    os.environ[\"LANGSMITH_API_KEY\"] = langsmith_api_key\n",
    "\n",
    "langsmith_tracing = os.getenv(\"LANGSMITH_TRACING\")\n",
    "if langsmith_tracing:\n",
    "    os.environ[\"LANGCHAIN_TRACING_V2\"] = langsmith_tracing\n",
    "\n",
    "# Initialize OpenAI LLM\n",
    "llm = ChatOpenAI(\n",
    "    model=\"gpt-3.5-turbo\",\n",
    "    temperature=0\n",
    ")\n",
    "\n",
    "print(\"OpenAI API key:\", \"Set\" if os.getenv(\"OPENAI_API_KEY\") else \"Not set\")\n",
    "print(\"LangSmith key:\", \"Set\" if os.getenv(\"LANGSMITH_API_KEY\") else \"Not set\")\n",
    "print(\"LangChain tracing V2:\", os.getenv(\"LANGCHAIN_TRACING_V2\"))"
   ]
  },
  {
   "cell_type": "code",
   "execution_count": null,
   "id": "70a13226",
   "metadata": {},
   "outputs": [],
   "source": [
    "from langchain_community.tools import WikipediaQueryRun\n",
    "from langchain_community.utilities import WikipediaAPIWrapper"
   ]
  },
  {
   "cell_type": "code",
   "execution_count": null,
   "id": "0edabf7a",
   "metadata": {},
   "outputs": [],
   "source": [
    "#built in tools\n",
    "wiki_wrapper = WikipediaAPIWrapper(top_k_results = 1 , doc_content_chars_max=200)\n",
    "wiki_tool = WikipediaQueryRun(api_wrapper=wiki_wrapper)"
   ]
  },
  {
   "cell_type": "code",
   "execution_count": null,
   "id": "c2601c06",
   "metadata": {},
   "outputs": [],
   "source": [
    "#custom tools\n",
    "from langchain_community.document_loaders import WebBaseLoader\n",
    "from langchain_community.vectorstores import FAISS \n",
    "from langchain_community.embeddings import OllamaEmbeddings \n",
    "from langchain_text_splitters import RecursiveCharacterTextSplitter\n",
    "\n",
    "loader = WebBaseLoader(\"https://docs.smith.langchain.com/\")\n",
    "documents = loader.load()\n",
    "\n",
    "text_splitter = RecursiveCharacterTextSplitter(chunk_size=1000, chunk_overlap=200)\n",
    "docs = text_splitter.split_documents(documents)\n",
    "\n",
    "vectoredb = FAISS.from_documents(documents = docs, embedding = OllamaEmbeddings(model = \"llama2\"))\n",
    "retriever = vectoredb.as_retriever()\n",
    "retriever "
   ]
  },
  {
   "cell_type": "code",
   "execution_count": null,
   "id": "275f5235",
   "metadata": {},
   "outputs": [],
   "source": [
    "from langchain.tools.retriever import create_retriever_tool\n",
    "retriever_tool = create_retriever_tool(retriever=retriever, name=\"langchain_docs\", description=\"Retrieves documents from LangChain documentation\")"
   ]
  },
  {
   "cell_type": "code",
   "execution_count": null,
   "id": "9b03f9e4",
   "metadata": {},
   "outputs": [],
   "source": [
    "retriever_tool.name"
   ]
  },
  {
   "cell_type": "code",
   "execution_count": null,
   "id": "cc478bc5",
   "metadata": {},
   "outputs": [],
   "source": [
    "#built in tools\n",
    "from langchain_community.utilities import ArxivAPIWrapper\n",
    "from langchain_community.tools import ArxivQueryRun\n",
    "\n",
    "arxiv_wrapper = ArxivAPIWrapper(top_k_results=1, doc_content_chars_max=200)\n",
    "arxiv_tool = ArxivQueryRun(api_wrapper=arxiv_wrapper)"
   ]
  },
  {
   "cell_type": "code",
   "execution_count": null,
   "id": "25c9671a",
   "metadata": {},
   "outputs": [],
   "source": [
    "#combine tools\n",
    "\n",
    "tools = [retriever_tool, arxiv_tool, wiki_tool]"
   ]
  },
  {
   "cell_type": "code",
   "execution_count": null,
   "id": "5f160601",
   "metadata": {},
   "outputs": [],
   "source": [
    "tools"
   ]
  },
  {
   "cell_type": "code",
   "execution_count": null,
   "id": "09d5c0cf",
   "metadata": {},
   "outputs": [],
   "source": [
    "from langchain_openai import ChatOpenAI\n",
    "\n",
    "llm = ChatOpenAI(\n",
    "    model=\"gpt-3.5-turbo\",\n",
    "    temperature=0\n",
    ")\n",
    "llm"
   ]
  },
  {
   "cell_type": "code",
   "execution_count": null,
   "id": "f1b704f2",
   "metadata": {},
   "outputs": [],
   "source": [
    "from langchain import hub\n",
    "prompt = hub.pull(\"hwchase17/openai-functions-agent\")\n",
    "prompt.messages"
   ]
  },
  {
   "cell_type": "code",
   "execution_count": null,
   "id": "4c3bb0c7",
   "metadata": {},
   "outputs": [],
   "source": [
    "'''init Agent to use tools , which will give the answer depending on the tools order '''\n",
    "from langchain.agents import create_openai_tools_agent\n",
    "\n",
    "agent = create_openai_tools_agent(\n",
    "    llm=llm,\n",
    "    tools=tools,\n",
    "    prompt=prompt,\n",
    ")"
   ]
  },
  {
   "cell_type": "code",
   "execution_count": null,
   "id": "f40370d7",
   "metadata": {},
   "outputs": [],
   "source": [
    "# Agent Execution\n",
    "\n",
    "from langchain.agents import AgentExecutor\n",
    "agent_executor = AgentExecutor(agent=agent, tools=tools, verbose=True)\n",
    "\n",
    "agent_executor\n",
    "\n"
   ]
  },
  {
   "cell_type": "code",
   "execution_count": null,
   "id": "d18ae739",
   "metadata": {},
   "outputs": [],
   "source": [
    "agent_executor.invoke({\"input\": \"What is LangSmith?\"})"
   ]
  }
 ],
 "metadata": {
  "kernelspec": {
   "display_name": "venv",
   "language": "python",
   "name": "python3"
  },
  "language_info": {
   "codemirror_mode": {
    "name": "ipython",
    "version": 3
   },
   "file_extension": ".py",
   "mimetype": "text/x-python",
   "name": "python",
   "nbconvert_exporter": "python",
   "pygments_lexer": "ipython3",
   "version": "3.10.14"
  }
 },
 "nbformat": 4,
 "nbformat_minor": 5
}
